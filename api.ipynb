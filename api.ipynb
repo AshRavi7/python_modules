{
 "cells": [
  {
   "cell_type": "markdown",
   "metadata": {},
   "source": [
    "### What is an API?\n",
    "    An API, or Application Programming Interface, is a server that you can use to retrieve and send data to using code.\n",
    "    APIs are most commonly used to retrieve data.\n",
    "    \n",
    "    When we want to receive data from an API, we need to make a request.\n",
    "    Requests are used all over the web. For instance, when you visit a website,\n",
    "    your web browser made a request to that websites web server, which responds with the content of the web page.\n",
    "    \n",
    "    API requests work in exactly the same way – you make a request to an API server for data,\n",
    "    and it responds to your request."
   ]
  },
  {
   "cell_type": "markdown",
   "metadata": {},
   "source": [
    "#### Making API Requests in Python\n",
    "\n",
    "    In order to work with APIs in Python, we need tools that will make those requests.\n",
    "    In Python, the most common library for making requests and working with APIs is the requests library.\n",
    "    The requests library isn’t part of the standard Python library, so you’ll need to install it to get started.\n",
    "    \n",
    "    pip install requests"
   ]
  },
  {
   "cell_type": "code",
   "execution_count": null,
   "metadata": {},
   "outputs": [],
   "source": [
    "# GET - get info that you have requested for \n",
    "# PUT - update the info \n",
    "# POST - post the data that you have sent \n",
    "# DELETE - delete "
   ]
  },
  {
   "cell_type": "code",
   "execution_count": null,
   "metadata": {},
   "outputs": [],
   "source": []
  },
  {
   "cell_type": "code",
   "execution_count": 1,
   "metadata": {},
   "outputs": [],
   "source": [
    "import requests\n",
    "import json "
   ]
  },
  {
   "cell_type": "markdown",
   "metadata": {},
   "source": [
    "### Making Our First API Request\n",
    "\n",
    "    There are many different types of requests. The most commonly used one, a GET request, is used to retrieve data.\n",
    "    Because we’ll just be working with retrieving data, our focus will be on making ‘get’ requests.\n",
    "\n",
    "    When we make a request, the response from the API comes with a response code which tells us whether\n",
    "    our request was successful.\n",
    "    Response codes are important because they immediately tell us if something went wrong.\n",
    "    \n",
    "   Response codes Link: https://www.tutorialspoint.com/http/http_status_codes.htm\n",
    "\n",
    "### API Documentation\n",
    "    In order to ensure we make a succesful request, when we work with APIs it’s important to consult\n",
    "    the documentation.\n",
    "    We’ll be working with the Open Notify API, which gives access to data about the international space station.\n",
    "    It’s a great API for learning because it has a very simple design, and doesn’t require authentication.\n",
    "   \n",
    "### Website: http://open-notify.org/\n",
    "### Api Link: http://api.open-notify.org/ \n",
    "    Often there will be multiple APIs available on a particular server.\n",
    "    Each of these APIs are commonly called endpoints.\n",
    "    The first endpoint we’ll use is http://api.open-notify.org/astros.json, \n",
    "    which returns data about astronauts currently in space."
   ]
  },
  {
   "cell_type": "code",
   "execution_count": 2,
   "metadata": {},
   "outputs": [],
   "source": [
    "api_endpoint = \"http://api.open-notify.org/astros.json\"\n",
    "\n",
    "data = requests.get(api_endpoint) # get the ack from the end point "
   ]
  },
  {
   "cell_type": "code",
   "execution_count": 5,
   "metadata": {},
   "outputs": [
    {
     "name": "stdout",
     "output_type": "stream",
     "text": [
      "{\"people\": [{\"name\": \"Mark Vande Hei\", \"craft\": \"ISS\"}, {\"name\": \"Oleg Novitskiy\", \"craft\": \"ISS\"}, {\"name\": \"Pyotr Dubrov\", \"craft\": \"ISS\"}, {\"name\": \"Thomas Pesquet\", \"craft\": \"ISS\"}, {\"name\": \"Megan McArthur\", \"craft\": \"ISS\"}, {\"name\": \"Shane Kimbrough\", \"craft\": \"ISS\"}, {\"name\": \"Akihiko Hoshide\", \"craft\": \"ISS\"}, {\"name\": \"Nie Haisheng\", \"craft\": \"Tiangong\"}, {\"name\": \"Liu Boming\", \"craft\": \"Tiangong\"}, {\"name\": \"Tang Hongbo\", \"craft\": \"Tiangong\"}], \"number\": 10, \"message\": \"success\"}\n"
     ]
    }
   ],
   "source": [
    "print(data.text)"
   ]
  },
  {
   "cell_type": "code",
   "execution_count": 3,
   "metadata": {},
   "outputs": [
    {
     "data": {
      "text/plain": [
       "str"
      ]
     },
     "execution_count": 3,
     "metadata": {},
     "output_type": "execute_result"
    }
   ],
   "source": [
    "type(data.text) # capturing json text from server endpoint hence .text "
   ]
  },
  {
   "cell_type": "code",
   "execution_count": 7,
   "metadata": {},
   "outputs": [
    {
     "name": "stdout",
     "output_type": "stream",
     "text": [
      "<class 'dict'>\n"
     ]
    }
   ],
   "source": [
    "# getting the data in the form of a dict\n",
    "\n",
    "data_dict = data.json() # this .json() is part of the request object and converts the json to  dict type \n",
    "print(type(data_dict))\n"
   ]
  },
  {
   "cell_type": "code",
   "execution_count": 9,
   "metadata": {},
   "outputs": [],
   "source": [
    "# data_dict"
   ]
  },
  {
   "cell_type": "code",
   "execution_count": 6,
   "metadata": {},
   "outputs": [
    {
     "name": "stdout",
     "output_type": "stream",
     "text": [
      "200\n"
     ]
    }
   ],
   "source": [
    "# status_code\n",
    "print(data.status_code) # 200 Ok - request has been deivered "
   ]
  },
  {
   "cell_type": "code",
   "execution_count": 10,
   "metadata": {},
   "outputs": [
    {
     "name": "stdout",
     "output_type": "stream",
     "text": [
      "{'Server': 'nginx/1.10.3', 'Date': 'Thu, 01 Jul 2021 11:55:55 GMT', 'Content-Type': 'application/json', 'Content-Length': '494', 'Connection': 'keep-alive', 'access-control-allow-origin': '*'}\n"
     ]
    }
   ],
   "source": [
    "# headers\n",
    "print(data.headers)"
   ]
  },
  {
   "cell_type": "code",
   "execution_count": 11,
   "metadata": {},
   "outputs": [],
   "source": [
    "'We’ll start by making a GET request to the endpoint using the requests library'\n",
    "\n",
    "\n",
    "response = requests.get(\"http://api.open-notify.org/astros.json\")\n",
    "# response.text \n",
    "data_string = response.text\n",
    "data = json.loads(data_string) # converts str to dict \n",
    "\n",
    "\n",
    "    \n",
    "# data['people'][2][\"name\"]"
   ]
  },
  {
   "cell_type": "code",
   "execution_count": 13,
   "metadata": {},
   "outputs": [
    {
     "data": {
      "text/plain": [
       "dict_keys(['people', 'number', 'message'])"
      ]
     },
     "execution_count": 13,
     "metadata": {},
     "output_type": "execute_result"
    }
   ],
   "source": [
    "data.keys()"
   ]
  },
  {
   "cell_type": "code",
   "execution_count": 14,
   "metadata": {},
   "outputs": [
    {
     "data": {
      "text/plain": [
       "10"
      ]
     },
     "execution_count": 14,
     "metadata": {},
     "output_type": "execute_result"
    }
   ],
   "source": [
    "data['number']"
   ]
  },
  {
   "cell_type": "code",
   "execution_count": 15,
   "metadata": {},
   "outputs": [
    {
     "data": {
      "text/plain": [
       "'success'"
      ]
     },
     "execution_count": 15,
     "metadata": {},
     "output_type": "execute_result"
    }
   ],
   "source": [
    "data['message']"
   ]
  },
  {
   "cell_type": "code",
   "execution_count": 16,
   "metadata": {},
   "outputs": [
    {
     "data": {
      "text/plain": [
       "[{'name': 'Mark Vande Hei', 'craft': 'ISS'},\n",
       " {'name': 'Oleg Novitskiy', 'craft': 'ISS'},\n",
       " {'name': 'Pyotr Dubrov', 'craft': 'ISS'},\n",
       " {'name': 'Thomas Pesquet', 'craft': 'ISS'},\n",
       " {'name': 'Megan McArthur', 'craft': 'ISS'},\n",
       " {'name': 'Shane Kimbrough', 'craft': 'ISS'},\n",
       " {'name': 'Akihiko Hoshide', 'craft': 'ISS'},\n",
       " {'name': 'Nie Haisheng', 'craft': 'Tiangong'},\n",
       " {'name': 'Liu Boming', 'craft': 'Tiangong'},\n",
       " {'name': 'Tang Hongbo', 'craft': 'Tiangong'}]"
      ]
     },
     "execution_count": 16,
     "metadata": {},
     "output_type": "execute_result"
    }
   ],
   "source": [
    "data['people']"
   ]
  },
  {
   "cell_type": "code",
   "execution_count": 17,
   "metadata": {},
   "outputs": [
    {
     "name": "stdout",
     "output_type": "stream",
     "text": [
      "Mark Vande Hei ISS\n",
      "Megan McArthur ISS\n"
     ]
    }
   ],
   "source": [
    "for people in data[\"people\"]:\n",
    "    if people['name'].startswith('M'):\n",
    "        print(people['name'], people['craft'])\n"
   ]
  },
  {
   "cell_type": "markdown",
   "metadata": {},
   "source": [
    "### Using an API with query parameters\n",
    "    The API endpoint that we used above does not take any parameters but it is very common to have an API endpoint\n",
    "    that requires us to specify parameters.\n",
    "    An example of this is http://api.open-notify.org/iss-pass.json endpoint.\n",
    "    This endpoint tells us the next times that the international space station will pass over a given location on the earth\n",
    "   \n",
    "    If we look at the documentation, it specifies required lat (latitude) and long (longitude) parameters.\n",
    "    \n",
    "    We can do this by adding an optional keyword argument, params, to our request.\n",
    "    We can make a dictionary with these parameters, and then pass them into the requests.get function.\n",
    "    \n",
    "   Link: http://api.open-notify.org/iss-pass.json"
   ]
  },
  {
   "cell_type": "code",
   "execution_count": 18,
   "metadata": {},
   "outputs": [],
   "source": [
    "parameters = {\n",
    "    \"lat\": 17.3850,\n",
    "    \"lon\": 78.4867\n",
    "}\n",
    "\n",
    "# url = \"http://api.open-notify.org/iss-pass.json?lat=28.6139&lon=77.2090\"\n",
    "\n",
    "'''It’s almost always preferable to setup the parameters as a dictionary, \n",
    "because requests takes care of some things that come up, like properly formatting the query parameters,\n",
    "and we don’t need to worry about inserting the values into the URL string.'''\n",
    "\n",
    "response = requests.get(\"http://api.open-notify.org/iss-pass.json\", params=parameters)\n",
    "# print(response.json()) # convert text to json \n",
    "\n",
    "data=response.json()"
   ]
  },
  {
   "cell_type": "code",
   "execution_count": 21,
   "metadata": {},
   "outputs": [
    {
     "data": {
      "text/plain": [
       "{'message': 'success',\n",
       " 'request': {'altitude': 100,\n",
       "  'datetime': 1625141938,\n",
       "  'latitude': 17.385,\n",
       "  'longitude': 78.4867,\n",
       "  'passes': 5},\n",
       " 'response': [{'duration': 360, 'risetime': 1625160796},\n",
       "  {'duration': 651, 'risetime': 1625166436},\n",
       "  {'duration': 318, 'risetime': 1625172433},\n",
       "  {'duration': 408, 'risetime': 1625196269},\n",
       "  {'duration': 650, 'risetime': 1625201971}]}"
      ]
     },
     "execution_count": 21,
     "metadata": {},
     "output_type": "execute_result"
    }
   ],
   "source": [
    "data"
   ]
  },
  {
   "cell_type": "code",
   "execution_count": 22,
   "metadata": {},
   "outputs": [
    {
     "name": "stdout",
     "output_type": "stream",
     "text": [
      "success\n"
     ]
    }
   ],
   "source": [
    "print(data['message'])\n"
   ]
  },
  {
   "cell_type": "code",
   "execution_count": 23,
   "metadata": {},
   "outputs": [
    {
     "name": "stdout",
     "output_type": "stream",
     "text": [
      "{'altitude': 100, 'datetime': 1625141938, 'latitude': 17.385, 'longitude': 78.4867, 'passes': 5}\n"
     ]
    }
   ],
   "source": [
    "print(data['request'])"
   ]
  },
  {
   "cell_type": "code",
   "execution_count": 24,
   "metadata": {},
   "outputs": [
    {
     "name": "stdout",
     "output_type": "stream",
     "text": [
      "[{'duration': 360, 'risetime': 1625160796}, {'duration': 651, 'risetime': 1625166436}, {'duration': 318, 'risetime': 1625172433}, {'duration': 408, 'risetime': 1625196269}, {'duration': 650, 'risetime': 1625201971}]\n"
     ]
    }
   ],
   "source": [
    "print(data['response'])"
   ]
  },
  {
   "cell_type": "code",
   "execution_count": null,
   "metadata": {},
   "outputs": [],
   "source": []
  },
  {
   "cell_type": "code",
   "execution_count": 25,
   "metadata": {},
   "outputs": [
    {
     "name": "stdout",
     "output_type": "stream",
     "text": [
      "\n",
      " [1625160796, 1625166436, 1625172433, 1625196269, 1625201971]\n"
     ]
    }
   ],
   "source": [
    "risetimes = list()\n",
    "\n",
    "for d in data['response']:\n",
    "    time = d['risetime'] \n",
    "    risetimes.append(time)\n",
    "\n",
    "print('\\n',risetimes)"
   ]
  },
  {
   "cell_type": "code",
   "execution_count": 26,
   "metadata": {},
   "outputs": [
    {
     "data": {
      "text/plain": [
       "[datetime.datetime(2021, 7, 1, 23, 3, 16),\n",
       " datetime.datetime(2021, 7, 2, 0, 37, 16),\n",
       " datetime.datetime(2021, 7, 2, 2, 17, 13),\n",
       " datetime.datetime(2021, 7, 2, 8, 54, 29),\n",
       " datetime.datetime(2021, 7, 2, 10, 29, 31)]"
      ]
     },
     "execution_count": 26,
     "metadata": {},
     "output_type": "execute_result"
    }
   ],
   "source": [
    "from datetime import datetime\n",
    "\n",
    "times = list()\n",
    "\n",
    "for rt in risetimes:\n",
    "    time = datetime.fromtimestamp(rt)\n",
    "    times.append(time)\n",
    "#     print(time)\n",
    "\n",
    "times"
   ]
  },
  {
   "cell_type": "code",
   "execution_count": 31,
   "metadata": {},
   "outputs": [],
   "source": [
    "url=\"http://api.open-notify.org/iss-now.json\"\n",
    "get_currentLocation=requests.get(url=url)\n",
    "# print(get_currentLocation.status_code) # sort of like a ping \n"
   ]
  },
  {
   "cell_type": "code",
   "execution_count": 32,
   "metadata": {},
   "outputs": [],
   "source": [
    "data=get_currentLocation.json()"
   ]
  },
  {
   "cell_type": "code",
   "execution_count": 33,
   "metadata": {},
   "outputs": [
    {
     "data": {
      "text/plain": [
       "{'timestamp': 1625142385,\n",
       " 'message': 'success',\n",
       " 'iss_position': {'longitude': '44.4412', 'latitude': '-47.2592'}}"
      ]
     },
     "execution_count": 33,
     "metadata": {},
     "output_type": "execute_result"
    }
   ],
   "source": [
    "data"
   ]
  },
  {
   "cell_type": "code",
   "execution_count": 34,
   "metadata": {},
   "outputs": [],
   "source": [
    "date=data['timestamp'] # text -> dict"
   ]
  },
  {
   "cell_type": "code",
   "execution_count": 35,
   "metadata": {},
   "outputs": [
    {
     "name": "stdout",
     "output_type": "stream",
     "text": [
      "2021-07-01 17:56:25\n"
     ]
    }
   ],
   "source": [
    "# translated str to json \n",
    "get_date=datetime.fromtimestamp(date) # parsing through the key to get the value \n",
    "print(get_date)"
   ]
  },
  {
   "cell_type": "code",
   "execution_count": 36,
   "metadata": {},
   "outputs": [
    {
     "data": {
      "text/plain": [
       "'44.4412'"
      ]
     },
     "execution_count": 36,
     "metadata": {},
     "output_type": "execute_result"
    }
   ],
   "source": [
    "data['iss_position']['longitude']"
   ]
  },
  {
   "cell_type": "code",
   "execution_count": 37,
   "metadata": {},
   "outputs": [
    {
     "data": {
      "text/plain": [
       "'-47.2592'"
      ]
     },
     "execution_count": 37,
     "metadata": {},
     "output_type": "execute_result"
    }
   ],
   "source": [
    "data['iss_position']['latitude']"
   ]
  },
  {
   "cell_type": "markdown",
   "metadata": {},
   "source": [
    "#### Weather Api"
   ]
  },
  {
   "cell_type": "code",
   "execution_count": 38,
   "metadata": {},
   "outputs": [],
   "source": [
    "id = '1261481' # refer to different id values from api.openweathermap.org  # 1261481 for delhi # 1277333 for bengaluru\n",
    "# url='http://api.openweathermap.org/data/2.5/forecast?id='+id+'&APPID=1960401d79b51d8c3be286b9463a081b'\n",
    "\n",
    "url = \"http://api.openweathermap.org/data/2.5/forecast/\"\n",
    "\n",
    "params = {\n",
    "    \"id\" : id,\n",
    "    \"APPID\" : \"1960401d79b51d8c3be286b9463a081b\",\n",
    "}"
   ]
  },
  {
   "cell_type": "code",
   "execution_count": 39,
   "metadata": {},
   "outputs": [],
   "source": [
    "source=requests.get(url, params=params)\n",
    "weather=json.loads(source.text) # convert str to json dictionary "
   ]
  },
  {
   "cell_type": "code",
   "execution_count": 40,
   "metadata": {},
   "outputs": [
    {
     "data": {
      "text/plain": [
       "dict_keys(['cod', 'message', 'cnt', 'list', 'city'])"
      ]
     },
     "execution_count": 40,
     "metadata": {},
     "output_type": "execute_result"
    }
   ],
   "source": [
    "weather.keys()"
   ]
  },
  {
   "cell_type": "code",
   "execution_count": 43,
   "metadata": {},
   "outputs": [
    {
     "data": {
      "text/plain": [
       "{'id': 1261481,\n",
       " 'name': 'New Delhi',\n",
       " 'coord': {'lat': 28.6128, 'lon': 77.2311},\n",
       " 'country': 'IN',\n",
       " 'population': 0,\n",
       " 'timezone': 19800,\n",
       " 'sunrise': 1625097401,\n",
       " 'sunset': 1625147570}"
      ]
     },
     "execution_count": 43,
     "metadata": {},
     "output_type": "execute_result"
    }
   ],
   "source": [
    "weather['city']"
   ]
  },
  {
   "cell_type": "code",
   "execution_count": 45,
   "metadata": {},
   "outputs": [],
   "source": [
    "# weather['list']"
   ]
  },
  {
   "cell_type": "code",
   "execution_count": 46,
   "metadata": {},
   "outputs": [
    {
     "name": "stdout",
     "output_type": "stream",
     "text": [
      "{'dt': 1625151600, 'main': {'temp': 314.39, 'feels_like': 315.51, 'temp_min': 314.39, 'temp_max': 314.7, 'pressure': 994, 'sea_level': 994, 'grnd_level': 971, 'humidity': 23, 'temp_kf': -0.31}, 'weather': [{'id': 803, 'main': 'Clouds', 'description': 'broken clouds', 'icon': '04n'}], 'clouds': {'all': 55}, 'wind': {'speed': 3.93, 'deg': 223, 'gust': 5.23}, 'visibility': 10000, 'pop': 0, 'sys': {'pod': 'n'}, 'dt_txt': '2021-07-01 15:00:00'}\n",
      "{'dt': 1625162400, 'main': {'temp': 313.35, 'feels_like': 313.82, 'temp_min': 312.9, 'temp_max': 313.35, 'pressure': 994, 'sea_level': 994, 'grnd_level': 971, 'humidity': 23, 'temp_kf': 0.45}, 'weather': [{'id': 803, 'main': 'Clouds', 'description': 'broken clouds', 'icon': '04n'}], 'clouds': {'all': 75}, 'wind': {'speed': 4.69, 'deg': 236, 'gust': 8.47}, 'visibility': 10000, 'pop': 0, 'sys': {'pod': 'n'}, 'dt_txt': '2021-07-01 18:00:00'}\n",
      "{'dt': 1625173200, 'main': {'temp': 310.85, 'feels_like': 311.45, 'temp_min': 310.85, 'temp_max': 310.85, 'pressure': 993, 'sea_level': 993, 'grnd_level': 970, 'humidity': 28, 'temp_kf': 0}, 'weather': [{'id': 803, 'main': 'Clouds', 'description': 'broken clouds', 'icon': '04n'}], 'clouds': {'all': 84}, 'wind': {'speed': 5.56, 'deg': 267, 'gust': 10.72}, 'visibility': 10000, 'pop': 0, 'sys': {'pod': 'n'}, 'dt_txt': '2021-07-01 21:00:00'}\n",
      "{'dt': 1625184000, 'main': {'temp': 309.34, 'feels_like': 310.71, 'temp_min': 309.34, 'temp_max': 309.34, 'pressure': 995, 'sea_level': 995, 'grnd_level': 972, 'humidity': 34, 'temp_kf': 0}, 'weather': [{'id': 804, 'main': 'Clouds', 'description': 'overcast clouds', 'icon': '04d'}], 'clouds': {'all': 89}, 'wind': {'speed': 4.26, 'deg': 278, 'gust': 7.24}, 'visibility': 10000, 'pop': 0, 'sys': {'pod': 'd'}, 'dt_txt': '2021-07-02 00:00:00'}\n",
      "{'dt': 1625194800, 'main': {'temp': 308.44, 'feels_like': 310.6, 'temp_min': 308.44, 'temp_max': 308.44, 'pressure': 998, 'sea_level': 998, 'grnd_level': 975, 'humidity': 39, 'temp_kf': 0}, 'weather': [{'id': 804, 'main': 'Clouds', 'description': 'overcast clouds', 'icon': '04d'}], 'clouds': {'all': 95}, 'wind': {'speed': 5.11, 'deg': 276, 'gust': 6.59}, 'visibility': 10000, 'pop': 0, 'sys': {'pod': 'd'}, 'dt_txt': '2021-07-02 03:00:00'}\n"
     ]
    }
   ],
   "source": [
    "for i in range(5):\n",
    "    print(weather['list'][i])"
   ]
  },
  {
   "cell_type": "code",
   "execution_count": 47,
   "metadata": {},
   "outputs": [
    {
     "name": "stdout",
     "output_type": "stream",
     "text": [
      "New Delhi\n"
     ]
    }
   ],
   "source": [
    "print(weather['city']['name'])"
   ]
  },
  {
   "cell_type": "code",
   "execution_count": 55,
   "metadata": {},
   "outputs": [
    {
     "name": "stdout",
     "output_type": "stream",
     "text": [
      "2021-07-01 21:00:00\n"
     ]
    }
   ],
   "source": [
    "dt_txt = weather['list'][2]['dt_txt']\n",
    "print(dt_txt)"
   ]
  },
  {
   "cell_type": "code",
   "execution_count": 56,
   "metadata": {},
   "outputs": [
    {
     "name": "stdout",
     "output_type": "stream",
     "text": [
      "310.85\n"
     ]
    }
   ],
   "source": [
    "temp = weather['list'][2]['main']['temp']\n",
    "print(temp)"
   ]
  },
  {
   "cell_type": "code",
   "execution_count": 57,
   "metadata": {},
   "outputs": [
    {
     "name": "stdout",
     "output_type": "stream",
     "text": [
      "310.85\n"
     ]
    }
   ],
   "source": [
    "min_temp = weather['list'][2]['main']['temp_min']\n",
    "print(min_temp)"
   ]
  },
  {
   "cell_type": "code",
   "execution_count": 58,
   "metadata": {},
   "outputs": [
    {
     "name": "stdout",
     "output_type": "stream",
     "text": [
      "310.85\n"
     ]
    }
   ],
   "source": [
    "max_temp = weather['list'][2]['main']['temp_max']\n",
    "print(max_temp)"
   ]
  },
  {
   "cell_type": "code",
   "execution_count": 59,
   "metadata": {},
   "outputs": [
    {
     "name": "stdout",
     "output_type": "stream",
     "text": [
      "28\n"
     ]
    }
   ],
   "source": [
    "humidity = weather['list'][2]['main']['humidity']\n",
    "print(humidity)"
   ]
  },
  {
   "cell_type": "code",
   "execution_count": 60,
   "metadata": {},
   "outputs": [
    {
     "name": "stdout",
     "output_type": "stream",
     "text": [
      "5.56\n"
     ]
    }
   ],
   "source": [
    "wind_speed = weather['list'][2]['wind']['speed']\n",
    "print(wind_speed)"
   ]
  },
  {
   "cell_type": "code",
   "execution_count": null,
   "metadata": {},
   "outputs": [],
   "source": []
  },
  {
   "cell_type": "markdown",
   "metadata": {},
   "source": [
    "#### Open Public Apis - rapidapi.com\n",
    "  https://docs.rapidapi.com/docs/basics-creating-a-project"
   ]
  },
  {
   "cell_type": "code",
   "execution_count": 61,
   "metadata": {},
   "outputs": [
    {
     "name": "stdout",
     "output_type": "stream",
     "text": [
      "{\n",
      " \"text\": \"the number of candles in a box of Hanukkah candles\",\n",
      " \"number\": 44,\n",
      " \"found\": true,\n",
      " \"type\": \"trivia\"\n",
      "}\n"
     ]
    }
   ],
   "source": [
    "import requests\n",
    "\n",
    "url = \"https://numbersapi.p.rapidapi.com/44/trivia\"\n",
    "\n",
    "querystring = {\"json\":\"true\",\"notfound\":\"floor\",\"fragment\":\"true\"}\n",
    "\n",
    "headers = {\n",
    "    'x-rapidapi-key': \"edc7eb2e69msh81bf0b2e98e44cep1c0e18jsn92b9fbf1cac5\",\n",
    "    'x-rapidapi-host': \"numbersapi.p.rapidapi.com\"\n",
    "    }\n",
    "\n",
    "response = requests.request(\"GET\", url, headers=headers, params=querystring)\n",
    "\n",
    "print(response.text)"
   ]
  },
  {
   "cell_type": "code",
   "execution_count": 62,
   "metadata": {},
   "outputs": [
    {
     "name": "stdout",
     "output_type": "stream",
     "text": [
      "{\n",
      " \"date\": \"July 31\",\n",
      " \"text\": \"the Jews are expelled from Spain; 40,000-200,000 leave\",\n",
      " \"number\": 1492,\n",
      " \"found\": true,\n",
      " \"type\": \"year\"\n",
      "}\n"
     ]
    }
   ],
   "source": [
    "# An API for interesting facts about numbers. Provides trivia, math, date, and year facts about numbers.\n",
    "\n",
    "url = \"https://numbersapi.p.rapidapi.com/1492/year\"\n",
    "\n",
    "querystring = {\"json\":\"true\",\"fragment\":\"true\"}\n",
    "\n",
    "headers = {\n",
    "    'x-rapidapi-key': \"edc7eb2e69msh81bf0b2e98e44cep1c0e18jsn92b9fbf1cac5\",\n",
    "    'x-rapidapi-host': \"numbersapi.p.rapidapi.com\"\n",
    "    }\n",
    "\n",
    "response = requests.request(\"GET\", url, headers=headers, params=querystring)\n",
    "\n",
    "print(response.text)\n",
    "\n",
    "# data=response.json() # if you want to see the data reponse in a dataframe format \n",
    "# import pandas as ps\n",
    "# pd.DataFrame(data)"
   ]
  },
  {
   "cell_type": "code",
   "execution_count": null,
   "metadata": {},
   "outputs": [],
   "source": []
  },
  {
   "cell_type": "code",
   "execution_count": 64,
   "metadata": {},
   "outputs": [
    {
     "name": "stdout",
     "output_type": "stream",
     "text": [
      "74.52395\n"
     ]
    }
   ],
   "source": [
    "# Currency Exchange\n",
    "# rapidapi.com\n",
    "\n",
    "import requests\n",
    "\n",
    "url = \"https://currency-exchange.p.rapidapi.com/exchange\"\n",
    "\n",
    "querystring = {\"q\":\"1.0\",\"from\":\"USD\",\"to\":\"INR\"}\n",
    "\n",
    "headers = {\n",
    "    'x-rapidapi-host': \"currency-exchange.p.rapidapi.com\",\n",
    "    'x-rapidapi-key': \"edc7eb2e69msh81bf0b2e98e44cep1c0e18jsn92b9fbf1cac5\"\n",
    "    }\n",
    "\n",
    "response = requests.request(\"GET\", url, headers=headers, params=querystring)\n",
    "\n",
    "print(response.text)"
   ]
  },
  {
   "cell_type": "code",
   "execution_count": null,
   "metadata": {},
   "outputs": [],
   "source": []
  },
  {
   "cell_type": "code",
   "execution_count": null,
   "metadata": {},
   "outputs": [],
   "source": []
  }
 ],
 "metadata": {
  "hide_input": false,
  "kernelspec": {
   "display_name": "Python 3",
   "language": "python",
   "name": "python3"
  },
  "language_info": {
   "codemirror_mode": {
    "name": "ipython",
    "version": 3
   },
   "file_extension": ".py",
   "mimetype": "text/x-python",
   "name": "python",
   "nbconvert_exporter": "python",
   "pygments_lexer": "ipython3",
   "version": "3.7.4"
  }
 },
 "nbformat": 4,
 "nbformat_minor": 4
}
